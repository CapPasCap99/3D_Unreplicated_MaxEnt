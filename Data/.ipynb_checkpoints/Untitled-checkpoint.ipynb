{
 "cells": [
  {
   "cell_type": "code",
   "execution_count": null,
   "id": "2c9ec80a-8188-44a5-8146-46a4a65a6dab",
   "metadata": {},
   "outputs": [],
   "source": [
    "/Users/abeardedbearcap99/Documents/PHD/Start C++/MaxEnt-Chromosome-Caulobacter/Results/Initial_Energies/energies_ccrescentus_wt_rep1.txt"
   ]
  }
 ],
 "metadata": {
  "kernelspec": {
   "display_name": "Python 3 (ipykernel)",
   "language": "python",
   "name": "python3"
  },
  "language_info": {
   "codemirror_mode": {
    "name": "ipython",
    "version": 3
   },
   "file_extension": ".py",
   "mimetype": "text/x-python",
   "name": "python",
   "nbconvert_exporter": "python",
   "pygments_lexer": "ipython3",
   "version": "3.12.7"
  }
 },
 "nbformat": 4,
 "nbformat_minor": 5
}
